{
 "cells": [
  {
   "cell_type": "raw",
   "id": "5979ef4b-fd69-4fbb-9258-a2128f8cd9b5",
   "metadata": {},
   "source": [
    "1. Create two int type variables, apply addition, subtraction, division and multiplications\n",
    "and store the results in variables. Then print the data in the following format by calling the\n",
    "variables:\n",
    "First variable is __ & second variable is __.\n",
    "Addition: __ + __ = __\n",
    "Subtraction: __ - __ = __\n",
    "Multiplication: __ * __ = __\n",
    "Division: __ / __ = __"
   ]
  },
  {
   "cell_type": "code",
   "execution_count": 5,
   "id": "3e34f38e-6650-436d-8e1c-fc9167643ae4",
   "metadata": {},
   "outputs": [
    {
     "name": "stdout",
     "output_type": "stream",
     "text": [
      "First variable is 70 & second variable is 32.\n",
      "Addition: 70 + 32 = 102\n",
      "Subtraction: 70 - 32 = 38\n",
      "Multiplication: 70 * 32 = 2240\n",
      "Division: 70 / 32 = 2.1875\n"
     ]
    }
   ],
   "source": [
    "# Create two int variables\n",
    "first_variable = 70\n",
    "second_variable = 32\n",
    "\n",
    "# Perform operations and store the results\n",
    "addition_result = first_variable + second_variable\n",
    "subtraction_result = first_variable - second_variable\n",
    "multiplication_result = first_variable * second_variable\n",
    "\n",
    "# Check for division by zero before performing division\n",
    "if second_variable != 0:\n",
    "    division_result = first_variable / second_variable\n",
    "else:\n",
    "    division_result = \"Undefined (division by zero)\"\n",
    "\n",
    "# Print the results in the specified format\n",
    "print(f\"First variable is {first_variable} & second variable is {second_variable}.\")\n",
    "print(f\"Addition: {first_variable} + {second_variable} = {addition_result}\")\n",
    "print(f\"Subtraction: {first_variable} - {second_variable} = {subtraction_result}\")\n",
    "print(f\"Multiplication: {first_variable} * {second_variable} = {multiplication_result}\")\n",
    "\n",
    "# Check if division is defined before printing\n",
    "if isinstance(division_result, (int, float)):\n",
    "    print(f\"Division: {first_variable} / {second_variable} = {division_result}\")\n",
    "else:\n",
    "    print(f\"Division: {first_variable} / {second_variable} = {division_result}\")\n"
   ]
  },
  {
   "cell_type": "raw",
   "id": "0c867991-c46c-4272-8ea3-d93454840873",
   "metadata": {},
   "source": [
    "2. What is the difference between the following operators:\n",
    "(i) ‘/’ & ‘//’\n",
    "(ii) ‘**’ & ‘^"
   ]
  },
  {
   "cell_type": "raw",
   "id": "273db853-a124-468a-8ea5-a704e4bda8d9",
   "metadata": {},
   "source": [
    "(i) '/' and '//' Operators:\n",
    "'/' (Division Operator): Performs regular division, and the result can be a floating-point number.\n",
    "'//' (Floor Division Operator): Performs floor division, and the result is the quotient rounded down to the nearest integer.\n",
    "(ii) '' and '^' Operators:**\n",
    "'' (Exponentiation Operator):** Raises the left operand to the power of the right operand.\n",
    "result = 2 ** 3  # Outputs 8\n",
    "'^' (Bitwise XOR Operator): Performs bitwise XOR (exclusive OR) on the binary representations of two numbers.\n",
    "result = 5 ^ 3  # Outputs 6\n"
   ]
  },
  {
   "cell_type": "raw",
   "id": "252300bf-cb73-41d7-8de1-2b599b85dcc2",
   "metadata": {},
   "source": [
    "3. List the logical operators."
   ]
  },
  {
   "cell_type": "raw",
   "id": "48e24713-b35e-4ad4-8817-718400f68d03",
   "metadata": {},
   "source": [
    "In Python, the logical operators are used to perform logical operations on Boolean values. Here are the logical operators:\n",
    "and: Returns True if both operands are True, otherwise returns False.\n",
    "or: Returns True if at least one operand is True, otherwise returns False.\n",
    "not: Returns the opposite of the operand's Boolean value. If the operand is True, not returns False; if the operand is False, not returns True."
   ]
  },
  {
   "cell_type": "raw",
   "id": "a0ad2b33-c64f-4f31-8adc-ee8a4175e7d1",
   "metadata": {},
   "source": [
    "4.  Explain right shift operator and left shift operator with examples."
   ]
  },
  {
   "cell_type": "raw",
   "id": "6e325c95-1480-40bd-9951-d1bd86b25da2",
   "metadata": {},
   "source": [
    "In Python, the right shift (>>) and left shift (<<) operators are bitwise shift operators. They perform binary shifts on the binary representation of integers. These operators move the bits of a binary number to the right or left by a specified number of positions.\n",
    "\n",
    "Right Shift Operator (>>):\n",
    "\n",
    "The right shift operator (>>) shifts the bits of a binary number to the right by a specified number of positions. It's equivalent to dividing the number by 2 raised to the power of the shift count.\n",
    "Example:\n",
    "    x = 8\n",
    "result = x >> 2  # Right shift x by 2 positions\n",
    "# Binary representation of x: 0b1000\n",
    "# After right shift by 2 positions: 0b0010 (binary) = 2 (decimal)\n",
    "print(result)  # Outputs 2\n",
    "Left Shift Operator (<<):\n",
    "\n",
    "The left shift operator (<<) shifts the bits of a binary number to the left by a specified number of positions. It's equivalent to multiplying the number by 2 raised to the power of the shift count.\n",
    "Example:\n",
    "    y = 3\n",
    "result = y << 2  # Left shift y by 2 positions\n",
    "# Binary representation of y: 0b11\n",
    "# After left shift by 2 positions: 0b1100 (binary) = 12 (decimal)\n",
    "print(result)  # Outputs 12\n"
   ]
  },
  {
   "cell_type": "raw",
   "id": "07a8e81c-2326-44d3-9be6-e7fb5569acf1",
   "metadata": {},
   "source": [
    "5. Create a list containing int type data of length 15. Then write a code to check if 10 is\n",
    "present in the list or not"
   ]
  },
  {
   "cell_type": "code",
   "execution_count": 6,
   "id": "7d1edc81-0aad-4238-89b0-821698d17c74",
   "metadata": {},
   "outputs": [
    {
     "name": "stdout",
     "output_type": "stream",
     "text": [
      "10 is present in the list.\n"
     ]
    }
   ],
   "source": [
    "# Create a list containing integer values\n",
    "my_list = [5, 8, 2, 10, 15, 20, 25, 30, 35, 40, 45, 50, 55, 60, 65]\n",
    "\n",
    "# Check if 10 is present in the list\n",
    "if 10 in my_list:\n",
    "    print(\"10 is present in the list.\")\n",
    "else:\n",
    "    print(\"10 is not present in the list.\")\n"
   ]
  },
  {
   "cell_type": "code",
   "execution_count": null,
   "id": "027dd407-731b-4e1a-bd22-bccba3098862",
   "metadata": {},
   "outputs": [],
   "source": []
  }
 ],
 "metadata": {
  "kernelspec": {
   "display_name": "Python 3 (ipykernel)",
   "language": "python",
   "name": "python3"
  },
  "language_info": {
   "codemirror_mode": {
    "name": "ipython",
    "version": 3
   },
   "file_extension": ".py",
   "mimetype": "text/x-python",
   "name": "python",
   "nbconvert_exporter": "python",
   "pygments_lexer": "ipython3",
   "version": "3.10.6"
  }
 },
 "nbformat": 4,
 "nbformat_minor": 5
}
